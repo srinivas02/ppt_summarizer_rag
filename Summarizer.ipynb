{
 "cells": [
  {
   "cell_type": "code",
   "execution_count": 2,
   "metadata": {},
   "outputs": [],
   "source": [
    "%load_ext autoreload\n",
    "%autoreload 2"
   ]
  },
  {
   "cell_type": "code",
   "execution_count": 8,
   "metadata": {},
   "outputs": [],
   "source": [
    "from pptTools.src.summarizer import SummarizerAgent\n",
    "from pptTools.src.rag import RagAgent"
   ]
  },
  {
   "cell_type": "code",
   "execution_count": 9,
   "metadata": {},
   "outputs": [],
   "source": [
    "pptx_path = r\"D:\\Asus\\Srinivas\\development\\GenAI\\code\\open_park\\DTC_Trends.pptx\""
   ]
  },
  {
   "cell_type": "code",
   "execution_count": 10,
   "metadata": {},
   "outputs": [
    {
     "name": "stderr",
     "output_type": "stream",
     "text": [
      "INFO:root:PPT Summarizer in action....\n",
      "37it [00:00, 41.61it/s]\n",
      "INFO:root:Extraction Completed!!\n",
      "INFO:root:Preprocessing Completed!!\n"
     ]
    }
   ],
   "source": [
    "summarizer_agent = SummarizerAgent(pptx_path)\n",
    "summarizer_agent.init()"
   ]
  },
  {
   "cell_type": "code",
   "execution_count": 11,
   "metadata": {},
   "outputs": [
    {
     "name": "stderr",
     "output_type": "stream",
     "text": [
      "INFO:root:Starting detailed summarizing, Hold on for sometime....\n",
      "INFO:root:Detailed Summarization Completed!!!\n",
      "INFO:httpx:HTTP Request: POST https://api.openai.com/v1/chat/completions \"HTTP/1.1 200 OK\"\n"
     ]
    }
   ],
   "source": [
    "detail_op = summarizer_agent.detailed_summary()"
   ]
  },
  {
   "cell_type": "code",
   "execution_count": 12,
   "metadata": {},
   "outputs": [
    {
     "name": "stdout",
     "output_type": "stream",
     "text": [
      "Detailed Summary:\n",
      "- The State of DTC (Direct-to-Consumer) trends in the pharmaceutical industry was discussed in a webinar.\n",
      "- The growth of new channels in DTC advertising has made it more difficult to measure spend accurately.\n",
      "- Despite the COVID-19 pandemic, annual spend in 2021 remained at $6.5 billion, with a greater overall investment in TV advertising.\n",
      "- According to Kantar data, digital spend in DTC advertising is lower and has experienced minimal growth, which contradicts ZS client experiences.\n",
      "- Adjusting the Kantar data for digital under-reporting suggests that total DTC spend could be nearly $1 billion higher, with digital accounting for 13% of spend.\n",
      "- TV advertising is driven by a small number of brands, while digital advertising is prevalent across all brands.\n",
      "- Among different types of digital advertising, mobile accounts for approximately 30% of the digital budget.\n",
      "- Point of Care (POC) advertising is an essential part of media plans, with spending projected to exceed $1 billion by 2023.\n",
      "- Adjusting the Kantar data for increased digital and POC spend suggests that total DTC spend could increase by nearly $2 billion, with digital at 13% of spend and POC at 10%.\n",
      "- Brands in the pharmaceutical industry are shifting towards digital and micro-influencers to reach their target audience.\n",
      "- Pharma companies are experimenting with social media influencer marketing, including platforms like TikTok.\n",
      "- Content-driven marketing, such as podcasts and videos, is expected to grow in the DTC space.\n",
      "- Pharma companies are utilizing innovative strategies, such as digital therapeutics diagnostics and unbranded programs, to engage with consumers.\n",
      "- ZS offers a range of solutions for DTC needs, including media strategy, planning, buying, and measurement.\n",
      "- ZS has partnered with Kepler to provide digital media buying services to clients.\n",
      "- Andrew Werts, a media planning and strategy expert, provided an overview of ZS's capabilities in media planning and analysis.\n",
      "- The webinar concluded with a thank you to all the contributors and an opportunity for questions.\n"
     ]
    }
   ],
   "source": [
    "print(detail_op)"
   ]
  },
  {
   "cell_type": "code",
   "execution_count": 13,
   "metadata": {},
   "outputs": [
    {
     "name": "stderr",
     "output_type": "stream",
     "text": [
      "INFO:root:Starting summarizing, Hold on for sometime....\n",
      "INFO:httpx:HTTP Request: POST https://api.openai.com/v1/chat/completions \"HTTP/1.1 200 OK\"\n",
      "INFO:httpx:HTTP Request: POST https://api.openai.com/v1/chat/completions \"HTTP/1.1 200 OK\"\n",
      "INFO:httpx:HTTP Request: POST https://api.openai.com/v1/chat/completions \"HTTP/1.1 200 OK\"\n",
      "INFO:httpx:HTTP Request: POST https://api.openai.com/v1/chat/completions \"HTTP/1.1 200 OK\"\n",
      "INFO:httpx:HTTP Request: POST https://api.openai.com/v1/chat/completions \"HTTP/1.1 200 OK\"\n",
      "INFO:httpx:HTTP Request: POST https://api.openai.com/v1/chat/completions \"HTTP/1.1 200 OK\"\n",
      "INFO:httpx:HTTP Request: POST https://api.openai.com/v1/chat/completions \"HTTP/1.1 200 OK\"\n",
      "INFO:httpx:HTTP Request: POST https://api.openai.com/v1/chat/completions \"HTTP/1.1 200 OK\"\n",
      "INFO:httpx:HTTP Request: POST https://api.openai.com/v1/chat/completions \"HTTP/1.1 200 OK\"\n",
      "INFO:httpx:HTTP Request: POST https://api.openai.com/v1/chat/completions \"HTTP/1.1 200 OK\"\n",
      "INFO:httpx:HTTP Request: POST https://api.openai.com/v1/chat/completions \"HTTP/1.1 200 OK\"\n",
      "INFO:httpx:HTTP Request: POST https://api.openai.com/v1/chat/completions \"HTTP/1.1 200 OK\"\n",
      "INFO:httpx:HTTP Request: POST https://api.openai.com/v1/chat/completions \"HTTP/1.1 200 OK\"\n",
      "INFO:httpx:HTTP Request: POST https://api.openai.com/v1/chat/completions \"HTTP/1.1 200 OK\"\n",
      "INFO:httpx:HTTP Request: POST https://api.openai.com/v1/chat/completions \"HTTP/1.1 200 OK\"\n",
      "INFO:httpx:HTTP Request: POST https://api.openai.com/v1/chat/completions \"HTTP/1.1 200 OK\"\n",
      "INFO:httpx:HTTP Request: POST https://api.openai.com/v1/chat/completions \"HTTP/1.1 200 OK\"\n",
      "INFO:httpx:HTTP Request: POST https://api.openai.com/v1/chat/completions \"HTTP/1.1 200 OK\"\n",
      "INFO:httpx:HTTP Request: POST https://api.openai.com/v1/chat/completions \"HTTP/1.1 200 OK\"\n",
      "INFO:httpx:HTTP Request: POST https://api.openai.com/v1/chat/completions \"HTTP/1.1 200 OK\"\n",
      "INFO:httpx:HTTP Request: POST https://api.openai.com/v1/chat/completions \"HTTP/1.1 200 OK\"\n",
      "INFO:httpx:HTTP Request: POST https://api.openai.com/v1/chat/completions \"HTTP/1.1 200 OK\"\n",
      "INFO:httpx:HTTP Request: POST https://api.openai.com/v1/chat/completions \"HTTP/1.1 200 OK\"\n",
      "INFO:httpx:HTTP Request: POST https://api.openai.com/v1/chat/completions \"HTTP/1.1 200 OK\"\n",
      "INFO:httpx:HTTP Request: POST https://api.openai.com/v1/chat/completions \"HTTP/1.1 200 OK\"\n",
      "INFO:httpx:HTTP Request: POST https://api.openai.com/v1/chat/completions \"HTTP/1.1 200 OK\"\n",
      "INFO:httpx:HTTP Request: POST https://api.openai.com/v1/chat/completions \"HTTP/1.1 200 OK\"\n",
      "INFO:httpx:HTTP Request: POST https://api.openai.com/v1/chat/completions \"HTTP/1.1 200 OK\"\n",
      "INFO:httpx:HTTP Request: POST https://api.openai.com/v1/chat/completions \"HTTP/1.1 200 OK\"\n",
      "INFO:httpx:HTTP Request: POST https://api.openai.com/v1/chat/completions \"HTTP/1.1 200 OK\"\n",
      "INFO:httpx:HTTP Request: POST https://api.openai.com/v1/chat/completions \"HTTP/1.1 200 OK\"\n",
      "INFO:httpx:HTTP Request: POST https://api.openai.com/v1/chat/completions \"HTTP/1.1 200 OK\"\n",
      "INFO:httpx:HTTP Request: POST https://api.openai.com/v1/chat/completions \"HTTP/1.1 200 OK\"\n",
      "INFO:httpx:HTTP Request: POST https://api.openai.com/v1/chat/completions \"HTTP/1.1 200 OK\"\n",
      "INFO:httpx:HTTP Request: POST https://api.openai.com/v1/chat/completions \"HTTP/1.1 200 OK\"\n",
      "INFO:httpx:HTTP Request: POST https://api.openai.com/v1/chat/completions \"HTTP/1.1 200 OK\"\n",
      "INFO:httpx:HTTP Request: POST https://api.openai.com/v1/chat/completions \"HTTP/1.1 200 OK\"\n",
      "INFO:httpx:HTTP Request: POST https://api.openai.com/v1/chat/completions \"HTTP/1.1 200 OK\"\n",
      "INFO:root:Slide-wise Summarization Completed!!!\n"
     ]
    }
   ],
   "source": [
    "summary_op = summarizer_agent.slide_summarizer()"
   ]
  },
  {
   "cell_type": "code",
   "execution_count": 14,
   "metadata": {},
   "outputs": [
    {
     "name": "stdout",
     "output_type": "stream",
     "text": [
      "Concise summary across all slides:\n",
      "| Slide | Content |\n",
      "|-------|---------|\n",
      "| 1     | Webinar presentation on emerging DTC trends, no specific data |\n",
      "| 2     | \"WELCOME\" |\n",
      "| 3     | List of presenters for the event |\n",
      "| 4     | Current state of DTC spending trends, increased use of social media, trend watch for 2023 |\n",
      "| 5     | Growth of new channels making spend measurement difficult |\n",
      "| 6     | Annual pharmaceutical DTC spend from 2012 to 2021, TV advertising investment |\n",
      "| 7     | Comparison of digital advertising spend from 2012 to 2021, discrepancy between industry trends and client experiences |\n",
      "| 8     | Comparison of Vista and Kantar data for digital media spend |\n",
      "| 9     | Adjusted Kantar data for digital under-reporting, programmatic spend estimates |\n",
      "| 10    | Distribution of advertising spend across different channels in 2021 |\n",
      "| 11    | Digital media spending by brands in 2020, focus on mobile |\n",
      "| 12    | Importance of point-of-care advertising, spending trends, and effectiveness |\n",
      "| 13    | Projected total point-of-care spending, growth rates, and impact of COVID-19 |\n",
      "| 14    | Potential increase in DTC spending with adjusted Kantar data |\n",
      "| 15    | Shifts in brands employing TV advertisements |\n",
      "| 16    | Increase in diversity in therapeutic areas among top 50 pharmaceutical DTC spenders |\n",
      "| 17    | Top spenders in TV and digital advertising for pharmaceutical products |\n",
      "| 18    | Brands with the highest increase in DTC spend between 2020 and 2021 |\n",
      "| 19    | Growth in addressable TV and its potential for rare disease marketers |\n",
      "| 20    | Argenx's DTC TV campaign for Myasthenia Gravis |\n",
      "| 21    | Shift towards digital and micro-influencers in influencer marketing |\n",
      "| 22    | Use of social media influencer marketing by brands |\n",
      "| 23    | Pharma companies working with micro-influencers on platforms like TikTok |\n",
      "| 24    | Clients globally experimenting with new ways of connecting consumers with their messages |\n",
      "| 25    | Emphasis on multi-cultural communication in healthcare campaigns |\n",
      "| 26    | Potential for growth in content-driven marketing through podcasts and video experimentation |\n",
      "| 27    | Use of digital therapeutics diagnostic as a patient activation tool |\n",
      "| 28    | Use of unbranded programs with unique content to engage DTC audiences |\n",
      "| 29    | Digital art exhibit engaging patients in creating art and learning about their conditions |\n",
      "| 30    | Enhanced use of digital and social media in marketing, shift from TV to online video |\n",
      "| 31    | Key takeaways for 2023, including the shift away from Cable/Satellite TV |\n",
      "| 32    | Concerns and challenges related to media strategy and planning |\n",
      "| 33    | Overview of ZS solutions for DTC needs |\n",
      "| 34    | Announcement of ZS offering digital media buying services through a partnership with Kepler |\n",
      "| 35    | Overview of Andrew Werts' expertise in media planning and strategy |\n",
      "| 36    | Thank you note to contributors |\n",
      "| 37    | \"Questions?\" |\n"
     ]
    }
   ],
   "source": [
    "print(summary_op)"
   ]
  }
 ],
 "metadata": {
  "kernelspec": {
   "display_name": "Python 3 (ipykernel)",
   "language": "python",
   "name": "python3"
  },
  "language_info": {
   "codemirror_mode": {
    "name": "ipython",
    "version": 3
   },
   "file_extension": ".py",
   "mimetype": "text/x-python",
   "name": "python",
   "nbconvert_exporter": "python",
   "pygments_lexer": "ipython3",
   "version": "3.8.8"
  }
 },
 "nbformat": 4,
 "nbformat_minor": 2
}
