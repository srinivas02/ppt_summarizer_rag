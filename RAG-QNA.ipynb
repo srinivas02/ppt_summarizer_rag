{
 "cells": [
  {
   "cell_type": "code",
   "execution_count": 1,
   "id": "d0ad9fd2",
   "metadata": {},
   "outputs": [],
   "source": [
    "%load_ext autoreload\n",
    "%autoreload 2"
   ]
  },
  {
   "cell_type": "code",
   "execution_count": 3,
   "id": "bf727749",
   "metadata": {},
   "outputs": [],
   "source": [
    "from pptTools.src.rag import RagAgent5"
   ]
  },
  {
   "cell_type": "code",
   "execution_count": 4,
   "id": "e8be8165",
   "metadata": {},
   "outputs": [],
   "source": [
    "pptx_path = r\"D:\\Asus\\Srinivas\\development\\GenAI\\code\\open_park\\DTC_Trends.pptx\""
   ]
  },
  {
   "cell_type": "code",
   "execution_count": null,
   "id": "382ad70a",
   "metadata": {},
   "outputs": [],
   "source": []
  }
 ],
 "metadata": {
  "kernelspec": {
   "display_name": "Python 3 (ipykernel)",
   "language": "python",
   "name": "python3"
  },
  "language_info": {
   "codemirror_mode": {
    "name": "ipython",
    "version": 3
   },
   "file_extension": ".py",
   "mimetype": "text/x-python",
   "name": "python",
   "nbconvert_exporter": "python",
   "pygments_lexer": "ipython3",
   "version": "3.8.8"
  }
 },
 "nbformat": 4,
 "nbformat_minor": 5
}
